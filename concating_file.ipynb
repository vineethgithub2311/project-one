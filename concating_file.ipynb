{
 "cells": [
  {
   "cell_type": "code",
   "execution_count": 6,
   "metadata": {},
   "outputs": [],
   "source": [
    "import os\n",
    "import pandas as pd"
   ]
  },
  {
   "cell_type": "code",
   "execution_count": 12,
   "metadata": {},
   "outputs": [
    {
     "name": "stderr",
     "output_type": "stream",
     "text": [
      "C:\\Users\\nilay\\Anaconda3\\lib\\site-packages\\ipykernel_launcher.py:7: FutureWarning: Sorting because non-concatenation axis is not aligned. A future version\n",
      "of pandas will change to not sort by default.\n",
      "\n",
      "To accept the future behavior, pass 'sort=False'.\n",
      "\n",
      "To retain the current behavior and silence the warning, pass 'sort=True'.\n",
      "\n",
      "  import sys\n"
     ]
    },
    {
     "data": {
      "text/plain": [
       "Unnamed: 0                    1380000\n",
       "company                        888483\n",
       "dropoff_census_tract           815624\n",
       "dropoff_centroid_latitude     1148720\n",
       "dropoff_centroid_location     1148720\n",
       "dropoff_centroid_longitude    1148720\n",
       "dropoff_community_area        1147040\n",
       "extras                        1379980\n",
       "fare                          1379980\n",
       "payment_type                  1380000\n",
       "pickup_census_tract            824836\n",
       "pickup_centroid_latitude      1174137\n",
       "pickup_centroid_location      1174137\n",
       "pickup_centroid_longitude     1174137\n",
       "pickup_community_area         1174107\n",
       "taxi_id                       1379937\n",
       "tips                          1379980\n",
       "tolls                         1379980\n",
       "trip_end_timestamp            1379822\n",
       "trip_id                       1380000\n",
       "trip_miles                    1379989\n",
       "trip_seconds                  1363539\n",
       "trip_start_timestamp          1380000\n",
       "trip_total                    1379980\n",
       "dtype: int64"
      ]
     },
     "execution_count": 12,
     "metadata": {},
     "output_type": "execute_result"
    }
   ],
   "source": [
    "file_list=os.listdir('data')\n",
    "\n",
    "df0=pd.DataFrame(pd.read_csv('data/'+file_list[0]))\n",
    "\n",
    "for file in file_list[1:]:\n",
    "    df1=pd.DataFrame(pd.read_csv('data/'+file))\n",
    "    df0=pd.concat([df0,df1])\n",
    "    \n",
    "df0.count()"
   ]
  },
  {
   "cell_type": "code",
   "execution_count": null,
   "metadata": {},
   "outputs": [],
   "source": []
  },
  {
   "cell_type": "code",
   "execution_count": null,
   "metadata": {},
   "outputs": [],
   "source": []
  }
 ],
 "metadata": {
  "kernelspec": {
   "display_name": "Python 3",
   "language": "python",
   "name": "python3"
  },
  "language_info": {
   "codemirror_mode": {
    "name": "ipython",
    "version": 3
   },
   "file_extension": ".py",
   "mimetype": "text/x-python",
   "name": "python",
   "nbconvert_exporter": "python",
   "pygments_lexer": "ipython3",
   "version": "3.7.0"
  }
 },
 "nbformat": 4,
 "nbformat_minor": 2
}
