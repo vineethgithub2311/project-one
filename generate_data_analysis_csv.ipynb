{
 "cells": [
  {
   "cell_type": "markdown",
   "metadata": {},
   "source": [
    "This notebook uses the complete_dataset and using a for loop to go through all the smaller files in that folder, cleans, and mungs the data for analysis, outputted to the data_analysis folder. The code under the for loop is changed depending on the type of output file we were looking to create"
   ]
  },
  {
   "cell_type": "code",
   "execution_count": null,
   "metadata": {},
   "outputs": [],
   "source": [
    "import pandas as pd\n",
    "import os"
   ]
  },
  {
   "cell_type": "code",
   "execution_count": null,
   "metadata": {},
   "outputs": [],
   "source": [
    "files=os.listdir('../data2')"
   ]
  },
  {
   "cell_type": "code",
   "execution_count": null,
   "metadata": {},
   "outputs": [],
   "source": [
    "master_df=pd.DataFrame()\n",
    "\n",
    "\n",
    "for file in files:\n",
    "    df=pd.DataFrame(pd.read_csv('../data2/{}'.format(file),\n",
    "                            usecols=['Dropoff Centroid Latitude','Dropoff Centroid Longitude'],\n",
    "                            dtype={\n",
    "                                'Trip ID':object,\n",
    "                                \"Trip Start Timestamp\":object,\n",
    "                                \"Trip Seconds\":float,\n",
    "                                \"Trip Miles\":float,\n",
    "                                \"Pickup Census Tract\":float,\n",
    "                                \"Dropoff Census Tract\":float,\n",
    "                                \"Pickup Community Area\":float,\n",
    "                                \"Dropoff Community Area\":float,\n",
    "                                \"Fare\":object,\n",
    "                                \"Trip Total\":object,\n",
    "                                \"Payment Type\":object,\n",
    "                                \"Pickup Centroid Latitude\":float,\n",
    "                                \"Pickup Centroid Longitude\":float,\n",
    "                                \"Dropoff Centroid Latitude\":float,\n",
    "                                \"Dropoff Centroid Longitude\":float\n",
    "                            }))\n",
    "    df1=df.dropna()\n",
    "    master_df=pd.concat([master_df,df1])\n",
    "    print(file)\n",
    "master_df.to_csv('../analysis_data/dropoff_geoloc.csv',chunksize=3000000)"
   ]
  },
  {
   "cell_type": "code",
   "execution_count": null,
   "metadata": {},
   "outputs": [],
   "source": [
    "master_df=pd.DataFrame()\n",
    "\n",
    "\n",
    "for file in files:\n",
    "    df=pd.DataFrame(pd.read_csv('../data2/{}'.format(file)))\n",
    "    df1=df[['Trip Start Timestamp','Payment Type','Fare']]\n",
    "    df2=df1.dropna()\n",
    "    df2['Fare']=df2['Fare'].replace('[\\$,]', '', regex=True).astype(float)\n",
    "    gb=df2.groupby(['Trip Start Timestamp','Payment Type'])\n",
    "    df3=gb.count().reset_index()\n",
    "    df3['Trip Count']=df3['Fare']\n",
    "    df4=gb.mean().reset_index()\n",
    "    df3['Mean Fare']=df4['Fare']\n",
    "    del df3['Fare']\n",
    "    master_df=pd.concat([master_df,df3])\n",
    "    print(file)\n",
    "master_df.to_csv('../data_analysis/fare.csv')\n"
   ]
  }
 ],
 "metadata": {
  "kernelspec": {
   "display_name": "Python 3",
   "language": "python",
   "name": "python3"
  },
  "language_info": {
   "codemirror_mode": {
    "name": "ipython",
    "version": 3
   },
   "file_extension": ".py",
   "mimetype": "text/x-python",
   "name": "python",
   "nbconvert_exporter": "python",
   "pygments_lexer": "ipython3",
   "version": "3.7.0"
  }
 },
 "nbformat": 4,
 "nbformat_minor": 2
}
