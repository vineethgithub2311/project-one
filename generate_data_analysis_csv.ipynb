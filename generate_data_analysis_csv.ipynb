{
 "cells": [
  {
   "cell_type": "markdown",
   "metadata": {},
   "source": [
    "This notebook uses the complete_dataset and using a for loop to go through all the smaller files in that folder, cleans, and mungs the data for analysis, outputted to the data_analysis folder. The code under the for loop is changed depending on the type of output file we were looking to create"
   ]
  },
  {
   "cell_type": "code",
   "execution_count": 1,
   "metadata": {},
   "outputs": [],
   "source": [
    "import pandas as pd\n",
    "import os"
   ]
  },
  {
   "cell_type": "code",
   "execution_count": 2,
   "metadata": {},
   "outputs": [],
   "source": [
    "files=os.listdir('../data2')"
   ]
  },
  {
   "cell_type": "code",
   "execution_count": 4,
   "metadata": {},
   "outputs": [
    {
     "name": "stderr",
     "output_type": "stream",
     "text": [
      "C:\\Users\\nilay\\Anaconda3\\lib\\site-packages\\ipykernel_launcher.py:23: SettingWithCopyWarning: \n",
      "A value is trying to be set on a copy of a slice from a DataFrame.\n",
      "Try using .loc[row_indexer,col_indexer] = value instead\n",
      "\n",
      "See the caveats in the documentation: http://pandas.pydata.org/pandas-docs/stable/indexing.html#indexing-view-versus-copy\n"
     ]
    },
    {
     "name": "stdout",
     "output_type": "stream",
     "text": [
      "chunk0.csv\n",
      "chunk1.csv\n",
      "chunk10.csv\n",
      "chunk11.csv\n",
      "chunk12.csv\n",
      "chunk13.csv\n",
      "chunk14.csv\n",
      "chunk15.csv\n",
      "chunk16.csv\n",
      "chunk17.csv\n",
      "chunk18.csv\n",
      "chunk19.csv\n",
      "chunk2.csv\n",
      "chunk20.csv\n",
      "chunk21.csv\n",
      "chunk22.csv\n",
      "chunk23.csv\n",
      "chunk24.csv\n",
      "chunk25.csv\n",
      "chunk26.csv\n",
      "chunk27.csv\n",
      "chunk28.csv\n",
      "chunk29.csv\n",
      "chunk3.csv\n",
      "chunk30.csv\n",
      "chunk31.csv\n",
      "chunk32.csv\n",
      "chunk33.csv\n",
      "chunk34.csv\n",
      "chunk35.csv\n",
      "chunk36.csv\n",
      "chunk37.csv\n",
      "chunk4.csv\n",
      "chunk5.csv\n",
      "chunk6.csv\n",
      "chunk7.csv\n",
      "chunk8.csv\n",
      "chunk9.csv\n"
     ]
    }
   ],
   "source": [
    "master_df=pd.DataFrame()\n",
    "for file in files:\n",
    "    df=pd.DataFrame(pd.read_csv('../data2/{}'.format(files[0]),\n",
    "                            usecols=['Payment Type','Fare'],\n",
    "                            dtype={\n",
    "                                'Trip ID':object,\n",
    "                                \"Trip Start Timestamp\":object,\n",
    "                                \"Trip Seconds\":float,\n",
    "                                \"Trip Miles\":float,\n",
    "                                \"Pickup Census Tract\":float,\n",
    "                                \"Dropoff Census Tract\":float,\n",
    "                                \"Pickup Community Area\":float,\n",
    "                                \"Dropoff Community Area\":float,\n",
    "                                \"Fare\":object,\n",
    "                                \"Trip Total\":object,\n",
    "                                \"Payment Type\":object,\n",
    "                                \"Pickup Centroid Latitude\":float,\n",
    "                                \"Pickup Centroid Longitude\":float,\n",
    "                                \"Dropoff Centroid Latitude\":float,\n",
    "                                \"Dropoff Centroid Longitude\":float\n",
    "                            }))\n",
    "    df1=df.dropna()\n",
    "    df1['Fare']=df1['Fare'].replace('[\\$,]', '', regex=True).astype(float)\n",
    "    master_df=pd.concat([master_df,df1])\n",
    "    print(file)\n",
    "    \n",
    "master_df.to_csv('../analysis_data/pay_and_fare.csv')"
   ]
  },
  {
   "cell_type": "code",
   "execution_count": null,
   "metadata": {},
   "outputs": [],
   "source": [
    "master_df=pd.DataFrame()\n",
    "\n",
    "\n",
    "for file in files:\n",
    "    df=pd.DataFrame(pd.read_csv('../data2/{}'.format(file),\n",
    "                            usecols=['Dropoff Community Area','Trip ID','Fare'],\n",
    "                            dtype={\n",
    "                                'Trip ID':object,\n",
    "                                \"Trip Start Timestamp\":object,\n",
    "                                \"Trip Seconds\":float,\n",
    "                                \"Trip Miles\":float,\n",
    "                                \"Pickup Census Tract\":float,\n",
    "                                \"Dropoff Census Tract\":float,\n",
    "                                \"Pickup Community Area\":float,\n",
    "                                \"Dropoff Community Area\":float,\n",
    "                                \"Fare\":object,\n",
    "                                \"Trip Total\":object,\n",
    "                                \"Payment Type\":object,\n",
    "                                \"Pickup Centroid Latitude\":float,\n",
    "                                \"Pickup Centroid Longitude\":float,\n",
    "                                \"Dropoff Centroid Latitude\":float,\n",
    "                                \"Dropoff Centroid Longitude\":float\n",
    "                            }))\n",
    "    df1=df.dropna()\n",
    "    df1['Fare']=df1['Fare'].replace('[\\$,]', '', regex=True).astype(float)\n",
    "    gb=df1.groupby(['Dropoff Community Area'])\n",
    "    df2=pd.DataFrame()\n",
    "    df2['Trip Count']=gb['Trip ID'].count()\n",
    "    df2['Average Fare']=gb['Fare'].mean()\n",
    "    df3=df2.reset_index()\n",
    "    master_df=pd.concat([master_df,df2])\n",
    "    print(file)\n",
    "master_df.to_csv('../analysis_data/comm_area.csv')"
   ]
  },
  {
   "cell_type": "code",
   "execution_count": null,
   "metadata": {},
   "outputs": [],
   "source": [
    "gb1=df1.groupby(['Pickup Census Tract','Trip Start Timestamp'])\n",
    "gb1.count()"
   ]
  },
  {
   "cell_type": "code",
   "execution_count": null,
   "metadata": {},
   "outputs": [],
   "source": [
    "df=pd.DataFrame(pd.read_csv('../data2/{}'.format(file),\n",
    "                            usecols=['Pickup Census Tract','Trip Start Timestamp','Trip ID'],\n",
    "                            dtype={\n",
    "                                'Trip ID':object,\n",
    "                                \"Trip Start Timestamp\":object,\n",
    "                                \"Trip Seconds\":float,\n",
    "                                \"Trip Miles\":float,\n",
    "                                \"Pickup Census Tract\":float,\n",
    "                                \"Dropoff Census Tract\":float,\n",
    "                                \"Pickup Community Area\":float,\n",
    "                                \"Dropoff Community Area\":float,\n",
    "                                \"Fare\":object,\n",
    "                                \"Trip Total\":object,\n",
    "                                \"Payment Type\":object,\n",
    "                                \"Pickup Centroid Latitude\":float,\n",
    "                                \"Pickup Centroid Longitude\":float,\n",
    "                                \"Dropoff Centroid Latitude\":float,\n",
    "                                \"Dropoff Centroid Longitude\":float\n",
    "                            }))\n",
    "df1=df.dropna()\n",
    "gb=df1.groupby(['Pickup Census Tract','Trip Start Timestamp'])\n",
    "df2=gb.count().reset_index()\n",
    "df2.head()"
   ]
  },
  {
   "cell_type": "code",
   "execution_count": null,
   "metadata": {},
   "outputs": [],
   "source": [
    "master_df=pd.DataFrame()\n",
    "\n",
    "\n",
    "for file in files:\n",
    "    df=pd.DataFrame(pd.read_csv('../data2/{}'.format(file),\n",
    "                            usecols=['Pickup Census Tract','Trip Start Timestamp','Trip ID'],\n",
    "                            dtype={\n",
    "                                'Trip ID':object,\n",
    "                                \"Trip Start Timestamp\":object,\n",
    "                                \"Trip Seconds\":float,\n",
    "                                \"Trip Miles\":float,\n",
    "                                \"Pickup Census Tract\":float,\n",
    "                                \"Dropoff Census Tract\":float,\n",
    "                                \"Pickup Community Area\":float,\n",
    "                                \"Dropoff Community Area\":float,\n",
    "                                \"Fare\":object,\n",
    "                                \"Trip Total\":object,\n",
    "                                \"Payment Type\":object,\n",
    "                                \"Pickup Centroid Latitude\":float,\n",
    "                                \"Pickup Centroid Longitude\":float,\n",
    "                                \"Dropoff Centroid Latitude\":float,\n",
    "                                \"Dropoff Centroid Longitude\":float\n",
    "                            }))\n",
    "    df1=df.dropna()\n",
    "    gb=df1.groupby(['Pickup Census Tract','Trip Start Timestamp'])\n",
    "    df2=gb.count().reset_index()\n",
    "    master_df=pd.concat([master_df,df2])\n",
    "    print(file)\n",
    "master_df.to_csv('../analysis_data/p1.csv')"
   ]
  },
  {
   "cell_type": "code",
   "execution_count": null,
   "metadata": {},
   "outputs": [],
   "source": [
    "master_df=pd.DataFrame()\n",
    "\n",
    "\n",
    "for file in files:\n",
    "    df=pd.DataFrame(pd.read_csv('../data2/{}'.format(file)))\n",
    "    df1=df[['Trip Start Timestamp','Payment Type','Fare']]\n",
    "    df2=df1.dropna()\n",
    "    df2['Fare']=df2['Fare'].replace('[\\$,]', '', regex=True).astype(float)\n",
    "    gb=df2.groupby(['Trip Start Timestamp','Payment Type'])\n",
    "    df3=gb.count().reset_index()\n",
    "    df3['Trip Count']=df3['Fare']\n",
    "    df4=gb.mean().reset_index()\n",
    "    df3['Mean Fare']=df4['Fare']\n",
    "    del df3['Fare']\n",
    "    master_df=pd.concat([master_df,df3])\n",
    "    print(file)\n",
    "master_df.to_csv('../data_analysis/fare.csv')\n"
   ]
  }
 ],
 "metadata": {
  "kernelspec": {
   "display_name": "Python 3",
   "language": "python",
   "name": "python3"
  },
  "language_info": {
   "codemirror_mode": {
    "name": "ipython",
    "version": 3
   },
   "file_extension": ".py",
   "mimetype": "text/x-python",
   "name": "python",
   "nbconvert_exporter": "python",
   "pygments_lexer": "ipython3",
   "version": "3.7.0"
  }
 },
 "nbformat": 4,
 "nbformat_minor": 2
}
