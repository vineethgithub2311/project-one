{
 "cells": [
  {
   "cell_type": "code",
   "execution_count": 1,
   "metadata": {},
   "outputs": [
    {
     "name": "stderr",
     "output_type": "stream",
     "text": [
      "C:\\Users\\nilay\\Anaconda3\\lib\\site-packages\\ipykernel\\parentpoller.py:116: UserWarning: Parent poll failed.  If the frontend dies,\n",
      "                the kernel may be left running.  Please let us know\n",
      "                about your system (bitness, Python, etc.) at\n",
      "                ipython-dev@scipy.org\n",
      "  ipython-dev@scipy.org\"\"\")\n"
     ]
    }
   ],
   "source": [
    "import pandas as pd\n",
    "import matplotlib.pyplot as plt"
   ]
  },
  {
   "cell_type": "code",
   "execution_count": 2,
   "metadata": {},
   "outputs": [
    {
     "data": {
      "text/html": [
       "<div>\n",
       "<style scoped>\n",
       "    .dataframe tbody tr th:only-of-type {\n",
       "        vertical-align: middle;\n",
       "    }\n",
       "\n",
       "    .dataframe tbody tr th {\n",
       "        vertical-align: top;\n",
       "    }\n",
       "\n",
       "    .dataframe thead th {\n",
       "        text-align: right;\n",
       "    }\n",
       "</style>\n",
       "<table border=\"1\" class=\"dataframe\">\n",
       "  <thead>\n",
       "    <tr style=\"text-align: right;\">\n",
       "      <th></th>\n",
       "      <th>Unnamed: 0</th>\n",
       "      <th>Median Age</th>\n",
       "      <th>Population</th>\n",
       "      <th>Means of transport (Other)</th>\n",
       "      <th>Means of transport</th>\n",
       "      <th>Means of transport (Auto)</th>\n",
       "      <th>Means of transport (Public)</th>\n",
       "      <th>No Education</th>\n",
       "      <th>High School</th>\n",
       "      <th>GED</th>\n",
       "      <th>...</th>\n",
       "      <th>Doctorate</th>\n",
       "      <th>Poverty Count</th>\n",
       "      <th>Household Income</th>\n",
       "      <th>Per Capita Income</th>\n",
       "      <th>Employed Population</th>\n",
       "      <th>Median Contract Rent</th>\n",
       "      <th>Name</th>\n",
       "      <th>county</th>\n",
       "      <th>state</th>\n",
       "      <th>tract</th>\n",
       "    </tr>\n",
       "  </thead>\n",
       "  <tbody>\n",
       "    <tr>\n",
       "      <th>0</th>\n",
       "      <td>0</td>\n",
       "      <td>44.0</td>\n",
       "      <td>5541.0</td>\n",
       "      <td>30.0</td>\n",
       "      <td>2878.0</td>\n",
       "      <td>2232.0</td>\n",
       "      <td>366.0</td>\n",
       "      <td>0.0</td>\n",
       "      <td>710.0</td>\n",
       "      <td>197.0</td>\n",
       "      <td>...</td>\n",
       "      <td>76.0</td>\n",
       "      <td>99.0</td>\n",
       "      <td>84863.0</td>\n",
       "      <td>39199.0</td>\n",
       "      <td>3112.0</td>\n",
       "      <td>827.0</td>\n",
       "      <td>Census Tract 5610, Cook County, Illinois</td>\n",
       "      <td>31</td>\n",
       "      <td>17</td>\n",
       "      <td>561000</td>\n",
       "    </tr>\n",
       "    <tr>\n",
       "      <th>1</th>\n",
       "      <td>1</td>\n",
       "      <td>33.0</td>\n",
       "      <td>1600.0</td>\n",
       "      <td>17.0</td>\n",
       "      <td>790.0</td>\n",
       "      <td>357.0</td>\n",
       "      <td>188.0</td>\n",
       "      <td>4.0</td>\n",
       "      <td>350.0</td>\n",
       "      <td>39.0</td>\n",
       "      <td>...</td>\n",
       "      <td>3.0</td>\n",
       "      <td>161.0</td>\n",
       "      <td>57045.0</td>\n",
       "      <td>26001.0</td>\n",
       "      <td>855.0</td>\n",
       "      <td>911.0</td>\n",
       "      <td>Census Tract 6401, Cook County, Illinois</td>\n",
       "      <td>31</td>\n",
       "      <td>17</td>\n",
       "      <td>640100</td>\n",
       "    </tr>\n",
       "    <tr>\n",
       "      <th>2</th>\n",
       "      <td>2</td>\n",
       "      <td>28.0</td>\n",
       "      <td>6464.0</td>\n",
       "      <td>13.0</td>\n",
       "      <td>2892.0</td>\n",
       "      <td>1469.0</td>\n",
       "      <td>431.0</td>\n",
       "      <td>327.0</td>\n",
       "      <td>1300.0</td>\n",
       "      <td>72.0</td>\n",
       "      <td>...</td>\n",
       "      <td>0.0</td>\n",
       "      <td>1285.0</td>\n",
       "      <td>44063.0</td>\n",
       "      <td>15150.0</td>\n",
       "      <td>3202.0</td>\n",
       "      <td>699.0</td>\n",
       "      <td>Census Tract 6305, Cook County, Illinois</td>\n",
       "      <td>31</td>\n",
       "      <td>17</td>\n",
       "      <td>630500</td>\n",
       "    </tr>\n",
       "    <tr>\n",
       "      <th>3</th>\n",
       "      <td>3</td>\n",
       "      <td>29.9</td>\n",
       "      <td>2307.0</td>\n",
       "      <td>4.0</td>\n",
       "      <td>800.0</td>\n",
       "      <td>448.0</td>\n",
       "      <td>185.0</td>\n",
       "      <td>13.0</td>\n",
       "      <td>706.0</td>\n",
       "      <td>89.0</td>\n",
       "      <td>...</td>\n",
       "      <td>0.0</td>\n",
       "      <td>767.0</td>\n",
       "      <td>24972.0</td>\n",
       "      <td>11572.0</td>\n",
       "      <td>1020.0</td>\n",
       "      <td>547.0</td>\n",
       "      <td>Census Tract 6111, Cook County, Illinois</td>\n",
       "      <td>31</td>\n",
       "      <td>17</td>\n",
       "      <td>611100</td>\n",
       "    </tr>\n",
       "    <tr>\n",
       "      <th>4</th>\n",
       "      <td>4</td>\n",
       "      <td>29.9</td>\n",
       "      <td>3298.0</td>\n",
       "      <td>0.0</td>\n",
       "      <td>1289.0</td>\n",
       "      <td>545.0</td>\n",
       "      <td>291.0</td>\n",
       "      <td>115.0</td>\n",
       "      <td>701.0</td>\n",
       "      <td>60.0</td>\n",
       "      <td>...</td>\n",
       "      <td>0.0</td>\n",
       "      <td>1398.0</td>\n",
       "      <td>35016.0</td>\n",
       "      <td>11113.0</td>\n",
       "      <td>1465.0</td>\n",
       "      <td>625.0</td>\n",
       "      <td>Census Tract 6114, Cook County, Illinois</td>\n",
       "      <td>31</td>\n",
       "      <td>17</td>\n",
       "      <td>611400</td>\n",
       "    </tr>\n",
       "  </tbody>\n",
       "</table>\n",
       "<p>5 rows × 24 columns</p>\n",
       "</div>"
      ],
      "text/plain": [
       "   Unnamed: 0  Median Age  Population  Means of transport (Other)  \\\n",
       "0           0        44.0      5541.0                        30.0   \n",
       "1           1        33.0      1600.0                        17.0   \n",
       "2           2        28.0      6464.0                        13.0   \n",
       "3           3        29.9      2307.0                         4.0   \n",
       "4           4        29.9      3298.0                         0.0   \n",
       "\n",
       "   Means of transport  Means of transport (Auto)  Means of transport (Public)  \\\n",
       "0              2878.0                     2232.0                        366.0   \n",
       "1               790.0                      357.0                        188.0   \n",
       "2              2892.0                     1469.0                        431.0   \n",
       "3               800.0                      448.0                        185.0   \n",
       "4              1289.0                      545.0                        291.0   \n",
       "\n",
       "   No Education  High School    GED   ...    Doctorate  Poverty Count  \\\n",
       "0           0.0        710.0  197.0   ...         76.0           99.0   \n",
       "1           4.0        350.0   39.0   ...          3.0          161.0   \n",
       "2         327.0       1300.0   72.0   ...          0.0         1285.0   \n",
       "3          13.0        706.0   89.0   ...          0.0          767.0   \n",
       "4         115.0        701.0   60.0   ...          0.0         1398.0   \n",
       "\n",
       "   Household Income  Per Capita Income  Employed Population  \\\n",
       "0           84863.0            39199.0               3112.0   \n",
       "1           57045.0            26001.0                855.0   \n",
       "2           44063.0            15150.0               3202.0   \n",
       "3           24972.0            11572.0               1020.0   \n",
       "4           35016.0            11113.0               1465.0   \n",
       "\n",
       "   Median Contract Rent                                      Name  county  \\\n",
       "0                 827.0  Census Tract 5610, Cook County, Illinois      31   \n",
       "1                 911.0  Census Tract 6401, Cook County, Illinois      31   \n",
       "2                 699.0  Census Tract 6305, Cook County, Illinois      31   \n",
       "3                 547.0  Census Tract 6111, Cook County, Illinois      31   \n",
       "4                 625.0  Census Tract 6114, Cook County, Illinois      31   \n",
       "\n",
       "   state   tract  \n",
       "0     17  561000  \n",
       "1     17  640100  \n",
       "2     17  630500  \n",
       "3     17  611100  \n",
       "4     17  611400  \n",
       "\n",
       "[5 rows x 24 columns]"
      ]
     },
     "execution_count": 2,
     "metadata": {},
     "output_type": "execute_result"
    }
   ],
   "source": [
    "census_df=pd.DataFrame(pd.read_csv('../analysis_data/census_data.csv'))\n",
    "census_df.head()"
   ]
  },
  {
   "cell_type": "code",
   "execution_count": 3,
   "metadata": {},
   "outputs": [],
   "source": [
    "census_df['Census Tract']=census_df['state'].astype(str)+'0'+census_df['county'].astype(str)+census_df['tract'].astype(str)"
   ]
  },
  {
   "cell_type": "code",
   "execution_count": 4,
   "metadata": {},
   "outputs": [],
   "source": [
    "census_df['Census Tract']=census_df['Census Tract'].astype('int64')"
   ]
  },
  {
   "cell_type": "code",
   "execution_count": 5,
   "metadata": {},
   "outputs": [
    {
     "data": {
      "text/plain": [
       "Index(['Unnamed: 0', 'Median Age', 'Population', 'Means of transport (Other)',\n",
       "       'Means of transport', 'Means of transport (Auto)',\n",
       "       'Means of transport (Public)', 'No Education', 'High School', 'GED',\n",
       "       'Some College', 'Bachelors', 'Masters', 'Professional', 'Doctorate',\n",
       "       'Poverty Count', 'Household Income', 'Per Capita Income',\n",
       "       'Employed Population', 'Median Contract Rent', 'Name', 'county',\n",
       "       'state', 'tract', 'Census Tract'],\n",
       "      dtype='object')"
      ]
     },
     "execution_count": 5,
     "metadata": {},
     "output_type": "execute_result"
    }
   ],
   "source": [
    "census_df.columns"
   ]
  },
  {
   "cell_type": "code",
   "execution_count": 6,
   "metadata": {},
   "outputs": [],
   "source": [
    "census_df2=census_df[['Census Tract','Household Income']]"
   ]
  },
  {
   "cell_type": "code",
   "execution_count": 7,
   "metadata": {},
   "outputs": [
    {
     "data": {
      "text/html": [
       "<div>\n",
       "<style scoped>\n",
       "    .dataframe tbody tr th:only-of-type {\n",
       "        vertical-align: middle;\n",
       "    }\n",
       "\n",
       "    .dataframe tbody tr th {\n",
       "        vertical-align: top;\n",
       "    }\n",
       "\n",
       "    .dataframe thead th {\n",
       "        text-align: right;\n",
       "    }\n",
       "</style>\n",
       "<table border=\"1\" class=\"dataframe\">\n",
       "  <thead>\n",
       "    <tr style=\"text-align: right;\">\n",
       "      <th></th>\n",
       "      <th>Unnamed: 0</th>\n",
       "      <th>Pickup Census Tract</th>\n",
       "    </tr>\n",
       "  </thead>\n",
       "  <tbody>\n",
       "    <tr>\n",
       "      <th>0</th>\n",
       "      <td>0</td>\n",
       "      <td>1.703107e+10</td>\n",
       "    </tr>\n",
       "    <tr>\n",
       "      <th>1</th>\n",
       "      <td>1</td>\n",
       "      <td>1.703108e+10</td>\n",
       "    </tr>\n",
       "    <tr>\n",
       "      <th>2</th>\n",
       "      <td>2</td>\n",
       "      <td>1.703108e+10</td>\n",
       "    </tr>\n",
       "    <tr>\n",
       "      <th>3</th>\n",
       "      <td>3</td>\n",
       "      <td>1.703108e+10</td>\n",
       "    </tr>\n",
       "    <tr>\n",
       "      <th>4</th>\n",
       "      <td>4</td>\n",
       "      <td>1.703108e+10</td>\n",
       "    </tr>\n",
       "  </tbody>\n",
       "</table>\n",
       "</div>"
      ],
      "text/plain": [
       "   Unnamed: 0  Pickup Census Tract\n",
       "0           0         1.703107e+10\n",
       "1           1         1.703108e+10\n",
       "2           2         1.703108e+10\n",
       "3           3         1.703108e+10\n",
       "4           4         1.703108e+10"
      ]
     },
     "execution_count": 7,
     "metadata": {},
     "output_type": "execute_result"
    }
   ],
   "source": [
    "pickup_df=pd.DataFrame(pd.read_csv('../analysis_data/pickupcensus.csv',dtype={'Unnamed Column':float,\n",
    "                                                                             'Pickup Census Tract':float}))\n",
    "pickup_df.head()"
   ]
  },
  {
   "cell_type": "code",
   "execution_count": 8,
   "metadata": {},
   "outputs": [],
   "source": [
    "pickup_df['Census Tract']=pickup_df['Pickup Census Tract'].astype('int64')"
   ]
  },
  {
   "cell_type": "code",
   "execution_count": 9,
   "metadata": {},
   "outputs": [],
   "source": [
    "merge_df=pd.merge(census_df2,pickup_df,how='inner',on='Census Tract')"
   ]
  },
  {
   "cell_type": "code",
   "execution_count": 10,
   "metadata": {},
   "outputs": [
    {
     "data": {
      "text/plain": [
       "Census Tract           43048338\n",
       "Household Income       43048338\n",
       "Unnamed: 0             43048338\n",
       "Pickup Census Tract    43048338\n",
       "dtype: int64"
      ]
     },
     "execution_count": 10,
     "metadata": {},
     "output_type": "execute_result"
    }
   ],
   "source": [
    "merge_df.count()"
   ]
  },
  {
   "cell_type": "code",
   "execution_count": 11,
   "metadata": {},
   "outputs": [],
   "source": []
  },
  {
   "cell_type": "code",
   "execution_count": 12,
   "metadata": {},
   "outputs": [
    {
     "data": {
      "image/png": "[encoded data removed]",
      "text/plain": [
       "<Figure size 800x800 with 1 Axes>"
      ]
     },
     "metadata": {},
     "output_type": "display_data"
    }
   ],
   "source": [
    "plt.figure(num=None, figsize=(10, 10), dpi=80, facecolor='w', edgecolor='k')\n",
    "plt.hist(merge_df['Household Income'], bins=15, range=(10000,200000), rwidth=0.9,\n",
    "     label=None)\n",
    "plt.xlabel('Household Income')\n",
    "plt.ylabel('Number of Trips')\n",
    "plt.title('Trip Distribution by Household Income')\n",
    "plt.savefig('output/income_distribution.png')"
   ]
  },
  {
   "cell_type": "code",
   "execution_count": 13,
   "metadata": {},
   "outputs": [],
   "source": [
    "census_df3=census_df[['Census Tract','Per Capita Income']]"
   ]
  },
  {
   "cell_type": "code",
   "execution_count": 14,
   "metadata": {},
   "outputs": [],
   "source": [
    "merge_df2=pd.merge(census_df3,pickup_df,how='inner',on='Census Tract')"
   ]
  },
  {
   "cell_type": "code",
   "execution_count": 19,
   "metadata": {},
   "outputs": [
    {
     "data": {
      "image/png": "[encoded data removed]",
      "text/plain": [
       "<Figure size 800x800 with 1 Axes>"
      ]
     },
     "metadata": {},
     "output_type": "display_data"
    }
   ],
   "source": [
    "plt.figure(num=None, figsize=(10, 10), dpi=80, facecolor='w', edgecolor='k')\n",
    "plt.hist(merge_df2['Per Capita Income'], bins=20, range=(10000,120000), rwidth=0.9,\n",
    "     label=None)\n",
    "plt.xlabel('Per Capita Income')\n",
    "plt.ylabel('Number of Trips')\n",
    "plt.title('Trip Distribution by Per Capita Income of Pickup Neighborhood')\n",
    "plt.savefig('output/income_distribution2.png')"
   ]
  },
  {
   "cell_type": "code",
   "execution_count": 21,
   "metadata": {},
   "outputs": [],
   "source": [
    "census_df4=census_df[['Census Tract','Median Age']]"
   ]
  },
  {
   "cell_type": "code",
   "execution_count": 22,
   "metadata": {},
   "outputs": [],
   "source": [
    "merge_df3=pd.merge(census_df4,pickup_df,how='inner',on='Census Tract')"
   ]
  },
  {
   "cell_type": "code",
   "execution_count": 27,
   "metadata": {},
   "outputs": [
    {
     "data": {
      "image/png": "[encoded data removed]",
      "text/plain": [
       "<Figure size 800x800 with 1 Axes>"
      ]
     },
     "metadata": {},
     "output_type": "display_data"
    }
   ],
   "source": [
    "plt.figure(num=None, figsize=(10, 10), dpi=80, facecolor='w', edgecolor='k')\n",
    "plt.hist(merge_df3['Median Age'], bins=30, range=(20,50), rwidth=0.9,\n",
    "     label=None)\n",
    "plt.xlabel('Median Age of Census Tract')\n",
    "plt.ylabel('Number of Trips')\n",
    "plt.title('Trip Distribution by Median Age of Pickup Neighborhood')\n",
    "plt.savefig('output/age.png')"
   ]
  },
  {
   "cell_type": "code",
   "execution_count": null,
   "metadata": {},
   "outputs": [],
   "source": []
  }
 ],
 "metadata": {
  "kernelspec": {
   "display_name": "Python 3",
   "language": "python",
   "name": "python3"
  },
  "language_info": {
   "codemirror_mode": {
    "name": "ipython",
    "version": 3
   },
   "file_extension": ".py",
   "mimetype": "text/x-python",
   "name": "python",
   "nbconvert_exporter": "python",
   "pygments_lexer": "ipython3",
   "version": "3.7.0"
  }
 },
 "nbformat": 4,
 "nbformat_minor": 2
}
