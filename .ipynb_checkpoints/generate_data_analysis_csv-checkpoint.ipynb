{
 "cells": [
  {
   "cell_type": "markdown",
   "metadata": {},
   "source": [
    "This notebook uses the complete_dataset and using a for loop to go through all the smaller files in that folder, cleans, and mungs the data for analysis, outputted to the data_analysis folder.\n"
   ]
  },
  {
   "cell_type": "code",
   "execution_count": 1,
   "metadata": {},
   "outputs": [],
   "source": [
    "import pandas as pd\n",
    "import os"
   ]
  },
  {
   "cell_type": "code",
   "execution_count": 2,
   "metadata": {},
   "outputs": [],
   "source": [
    "files=os.listdir('data2')"
   ]
  },
  {
   "cell_type": "code",
   "execution_count": 4,
   "metadata": {},
   "outputs": [
    {
     "name": "stderr",
     "output_type": "stream",
     "text": [
      "C:\\Users\\nilay\\Anaconda3\\lib\\site-packages\\ipykernel_launcher.py:8: SettingWithCopyWarning: \n",
      "A value is trying to be set on a copy of a slice from a DataFrame.\n",
      "Try using .loc[row_indexer,col_indexer] = value instead\n",
      "\n",
      "See the caveats in the documentation: http://pandas.pydata.org/pandas-docs/stable/indexing.html#indexing-view-versus-copy\n",
      "  \n"
     ]
    },
    {
     "name": "stdout",
     "output_type": "stream",
     "text": [
      "chunk0.csv\n",
      "chunk1.csv\n",
      "chunk10.csv\n",
      "chunk11.csv\n",
      "chunk12.csv\n",
      "chunk13.csv\n",
      "chunk14.csv\n",
      "chunk15.csv\n",
      "chunk16.csv\n",
      "chunk17.csv\n",
      "chunk18.csv\n",
      "chunk19.csv\n",
      "chunk2.csv\n",
      "chunk20.csv\n",
      "chunk21.csv\n",
      "chunk22.csv\n",
      "chunk23.csv\n",
      "chunk24.csv\n",
      "chunk25.csv\n",
      "chunk26.csv\n",
      "chunk27.csv\n",
      "chunk28.csv\n",
      "chunk29.csv\n",
      "chunk3.csv\n",
      "chunk30.csv\n",
      "chunk31.csv\n",
      "chunk32.csv\n",
      "chunk33.csv\n",
      "chunk34.csv\n",
      "chunk35.csv\n",
      "chunk36.csv\n",
      "chunk37.csv\n",
      "chunk4.csv\n",
      "chunk5.csv\n",
      "chunk6.csv\n",
      "chunk7.csv\n",
      "chunk8.csv\n",
      "chunk9.csv\n"
     ]
    }
   ],
   "source": [
    "master_df=pd.DataFrame()\n",
    "\n",
    "\n",
    "for file in files:\n",
    "    df=pd.DataFrame(pd.read_csv('data2/{}'.format(file)))\n",
    "    df1=df[['Trip Start Timestamp','Payment Type','Fare']]\n",
    "    df2=df1.dropna()\n",
    "    df2['Fare']=df2['Fare'].replace('[\\$,]', '', regex=True).astype(float)\n",
    "    gb=df2.groupby(['Trip Start Timestamp','Payment Type'])\n",
    "    df3=gb.count().reset_index()\n",
    "    df3['Trip Count']=df3['Fare']\n",
    "    df4=gb.mean().reset_index()\n",
    "    df3['Mean Fare']=df4['Fare']\n",
    "    del df3['Fare']\n",
    "    master_df=pd.concat([master_df,df3])\n",
    "    print(file)\n",
    "master_df.to_csv('data_analysis/pickup.csv')\n"
   ]
  },
  {
   "cell_type": "code",
   "execution_count": null,
   "metadata": {},
   "outputs": [],
   "source": [
    "master_df.head()"
   ]
  },
  {
   "cell_type": "code",
   "execution_count": null,
   "metadata": {},
   "outputs": [],
   "source": [
    "master_df.rename(columns={'Trip ID':'Trip Count'},inplace=True)\n",
    "master_df.to_csv('time.csv')"
   ]
  },
  {
   "cell_type": "code",
   "execution_count": null,
   "metadata": {},
   "outputs": [],
   "source": [
    "df=pd.DataFrame(pd.read_csv('data2/{}'.format(files[0])))"
   ]
  },
  {
   "cell_type": "code",
   "execution_count": null,
   "metadata": {},
   "outputs": [],
   "source": [
    "df.columns"
   ]
  },
  {
   "cell_type": "code",
   "execution_count": null,
   "metadata": {},
   "outputs": [],
   "source": [
    "df1=df[['Trip Start Timestamp','Payment Type','Fare']]\n",
    "df2=df1.dropna()\n",
    "df2['Fare']=df2['Fare'].replace('[\\$,]', '', regex=True).astype(float)\n",
    "df2.head()"
   ]
  },
  {
   "cell_type": "code",
   "execution_count": null,
   "metadata": {},
   "outputs": [],
   "source": [
    "gb=df2.groupby(['Trip Start Timestamp','Payment Type'])"
   ]
  },
  {
   "cell_type": "code",
   "execution_count": null,
   "metadata": {},
   "outputs": [],
   "source": [
    "df3=gb.count().reset_index()"
   ]
  },
  {
   "cell_type": "code",
   "execution_count": null,
   "metadata": {},
   "outputs": [],
   "source": [
    "df3['Trip Count']=df3['Fare']"
   ]
  },
  {
   "cell_type": "code",
   "execution_count": null,
   "metadata": {},
   "outputs": [],
   "source": [
    "df4=gb.mean().reset_index()"
   ]
  },
  {
   "cell_type": "code",
   "execution_count": null,
   "metadata": {},
   "outputs": [],
   "source": [
    "df3['Mean Fare']=df4['Fare']"
   ]
  },
  {
   "cell_type": "code",
   "execution_count": null,
   "metadata": {},
   "outputs": [],
   "source": [
    "del df3['Fare']"
   ]
  },
  {
   "cell_type": "code",
   "execution_count": null,
   "metadata": {},
   "outputs": [],
   "source": [
    "df3.head()"
   ]
  },
  {
   "cell_type": "code",
   "execution_count": null,
   "metadata": {},
   "outputs": [],
   "source": []
  }
 ],
 "metadata": {
  "kernelspec": {
   "display_name": "Python 3",
   "language": "python",
   "name": "python3"
  },
  "language_info": {
   "codemirror_mode": {
    "name": "ipython",
    "version": 3
   },
   "file_extension": ".py",
   "mimetype": "text/x-python",
   "name": "python",
   "nbconvert_exporter": "python",
   "pygments_lexer": "ipython3",
   "version": "3.7.0"
  }
 },
 "nbformat": 4,
 "nbformat_minor": 2
}
