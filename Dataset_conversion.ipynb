{
 "cells": [
  {
   "cell_type": "markdown",
   "metadata": {},
   "source": [
    "#This notebook breaks down the very large (43gb) dataset we got from data.cityofchicago.org for Taxi rides into smaller pieces that are more processable in the current computer memory."
   ]
  },
  {
   "cell_type": "code",
   "execution_count": 1,
   "metadata": {},
   "outputs": [],
   "source": [
    "import pandas as pd"
   ]
  },
  {
   "cell_type": "code",
   "execution_count": null,
   "metadata": {},
   "outputs": [],
   "source": [
    "file_path='taxi_trips.csv'\n",
    "\n",
    "TextFileReader=pd.read_csv(file_path, chunksize=3000000,\n",
    "                           usecols=['Trip ID','Trip Start Timestamp','Trip Seconds',\n",
    "                                    'Trip Miles', 'Pickup Census Tract','Dropoff Census Tract',\n",
    "                                    'Pickup Community Area','Dropoff Community Area','Fare',\n",
    "                                    'Trip Total', 'Payment Type','Pickup Centroid Latitude',\n",
    "                                    'Pickup Centroid Longitude','Dropoff Centroid Latitude',\n",
    "                                    'Dropoff Centroid Longitude'],\n",
    "                           dtype={'Trip ID':object,\n",
    "                                  \"Taxi ID\":object,\n",
    "                                  \"Trip Start Timestamp\":object,\n",
    "                                  \"Trip End Timestamp\":object,\n",
    "                                  \"Trip Seconds\":float,\n",
    "                                  \"Trip Miles\":float,\n",
    "                                  \"Pickup Census Tract\":float,\n",
    "                                  \"Dropoff Census Tract\":float,\n",
    "                                  \"Pickup Community Area\":float,\n",
    "                                  \"Dropoff Community Area\":float,\n",
    "                                  \"Fare\":object,\n",
    "                                  \"Tips\":object,\n",
    "                                  \"Tolls\":object,\n",
    "                                  \"Extras\":object,\n",
    "                                  \"Trip Total\":object,\n",
    "                                  \"Payment Type\":object,\n",
    "                                  \"Company\":object,\n",
    "                                  \"Pickup Centroid Latitude\":float,\n",
    "                                  \"Pickup Centroid Longitude\":float,\n",
    "                                  \"Pickup Centroid Location\":object,\n",
    "                                  \"Dropoff Centroid Latitude\":float,\n",
    "                                  \"Dropoff Centroid Longitude\":float,\n",
    "                                  \"Dropoff Centroid  Location\":object,\n",
    "                                  \"Community Areas\":float})\n",
    "\n",
    "for i,chunk in enumerate(TextFileReader):\n",
    "    chunk.to_csv('complete_dataset/chunk{}.csv'.format(i))"
   ]
  },
  {
   "cell_type": "code",
   "execution_count": null,
   "metadata": {},
   "outputs": [],
   "source": []
  },
  {
   "cell_type": "code",
   "execution_count": null,
   "metadata": {},
   "outputs": [],
   "source": []
  }
 ],
 "metadata": {
  "kernelspec": {
   "display_name": "Python 3",
   "language": "python",
   "name": "python3"
  },
  "language_info": {
   "codemirror_mode": {
    "name": "ipython",
    "version": 3
   },
   "file_extension": ".py",
   "mimetype": "text/x-python",
   "name": "python",
   "nbconvert_exporter": "python",
   "pygments_lexer": "ipython3",
   "version": "3.7.0"
  }
 },
 "nbformat": 4,
 "nbformat_minor": 2
}
